{
 "cells": [
  {
   "cell_type": "markdown",
   "metadata": {},
   "source": [
    "# Single Factor Analyzer Model \n",
    "\n",
    "Python 3 implementation of single factor analysis"
   ]
  },
  {
   "cell_type": "markdown",
   "metadata": {},
   "source": [
    "## Installation"
   ]
  },
  {
   "cell_type": "markdown",
   "metadata": {},
   "source": [
    "### pip installation (recommended)\n",
    "\n",
    "\n",
    "```bash\n",
    "$ pip install single-factor-analysis\n",
    "```"
   ]
  },
  {
   "cell_type": "markdown",
   "metadata": {},
   "source": [
    "## Usage"
   ]
  },
  {
   "cell_type": "markdown",
   "metadata": {},
   "source": [
    "We start with an example sparse data matrix $ \\bf{X} \\in \\mathbb{R}^{n \\times p} $ where $ n $ is the number of samples or observations of $ \\bf{X} $ and $ p $ represents the number of features of $ \\bf{X} $. We immediately notice by eye that the $ p $ features of $ \\bf{X} $ can perhaps be better described in a lower dimensional space $ k $"
   ]
  },
  {
   "cell_type": "code",
   "execution_count": 3,
   "metadata": {},
   "outputs": [],
   "source": [
    "%matplotlib inline\n",
    "\n",
    "from single_factor_analysis.factor_analysis import single_factor_analysis\n",
    "import matplotlib.pyplot as plt\n",
    "import numpy as np\n",
    "import pandas as pd\n",
    "from sklearn.decomposition import FactorAnalysis\n",
    "\n",
    "X = np.array([[3, -.001, 0.03],\n",
    "             [10, .002, 0.004],\n",
    "             [5, -0.001, 0.007,],\n",
    "             [0.004, -0.006, 4],\n",
    "             [-.0035, -.002, 10]])"
   ]
  },
  {
   "cell_type": "markdown",
   "metadata": {},
   "source": [
    "We suspect that the observations (rows) of the data matrix can be represented essentially as a linear combination of the rows of the matrix: \n",
    "\n",
    "$ \\begin{bmatrix}\n",
    "    1 & 0 & 0 \\\\\n",
    "    0 & 0 & 1\n",
    " \\end{bmatrix} $\n",
    "\n",
    "where the 1 components are arbitrarily positively or negatively scaled. To test this we\n",
    "will use factor analysis passing our expected dimensions $ k $ as 2 based upon our initial intuition. We will\n",
    "also plot the curve of the likehood to affirm that our load factor matrix is iteratively approaching the correct approximation.\n",
    "In addition we also compare our implementation technique to the modern implementation used for factor analysis\n",
    "contained in Python's `sklearn` library."
   ]
  },
  {
   "cell_type": "code",
   "execution_count": 4,
   "metadata": {},
   "outputs": [
    {
     "name": "stderr",
     "output_type": "stream",
     "text": [
      "/Users/karlmarrett/Code/single_factor_analysis/single_factor_analysis/factor_analysis.py:95: UserWarning: Factor analysis did not converge for tol : 0.0001, you may want to increase the cycles\n",
      "  warnings.warn('Factor analysis did not converge for tol : %.4f, you may want to increase the cycles' % tol)\n"
     ]
    },
    {
     "name": "stdout",
     "output_type": "stream",
     "text": [
      "           0         1\n",
      "0  12.950650 -4.929270\n",
      "1   0.007416 -0.003814\n",
      "2 -10.114476  1.894700\n",
      "\n",
      "Compare implementation to modern sklearn implementation\n",
      "\n",
      "          0         1\n",
      "0  3.518424  0.834773\n",
      "1  0.002015  0.001261\n",
      "2 -3.303469  1.852807\n"
     ]
    },
    {
     "data": {
      "image/png": "[encoded data removed]",
      "text/plain": [
       "<matplotlib.figure.Figure at 0x1068cf2e8>"
      ]
     },
     "metadata": {},
     "output_type": "display_data"
    }
   ],
   "source": [
    "Lambda, Psi, lkhd_list = single_factor_analysis(X, k=2, cycles=100)\n",
    "plt.plot(lkhd_list, 'k')\n",
    "plt.xlabel('Iteration')\n",
    "plt.ylabel('Likelihood Value')\n",
    "plt.title('Log Likelihood Curve')\n",
    "print(pd.DataFrame(Lambda))\n",
    "\n",
    "print(\"\\nCompare implementation to modern sklearn implementation\\n\")\n",
    "factor = FactorAnalysis(n_components=2).fit(X)\n",
    "print(pd.DataFrame(factor.components_.T))"
   ]
  },
  {
   "cell_type": "markdown",
   "metadata": {},
   "source": [
    "In this example we see that the single factor analysis did succeed in converging to a solution within the default tolerance. In addition, it also had reasonable success finding a set of two factor loadings for the originally sparse data space.  "
   ]
  },
  {
   "cell_type": "markdown",
   "metadata": {},
   "source": [
    "## Resources\n",
    "- [The EM Algorithm for Mixtures of Factor Analyzers, Hinton et al. 1997](http://www.cs.toronto.edu/~fritz/absps/tr-96-1.pdf)"
   ]
  }
 ],
 "metadata": {
  "kernelspec": {
   "display_name": "Python 3",
   "language": "python",
   "name": "python3"
  },
  "language_info": {
   "codemirror_mode": {
    "name": "ipython",
    "version": 3
   },
   "file_extension": ".py",
   "mimetype": "text/x-python",
   "name": "python",
   "nbconvert_exporter": "python",
   "pygments_lexer": "ipython3",
   "version": "3.6.2"
  }
 },
 "nbformat": 4,
 "nbformat_minor": 2
}
